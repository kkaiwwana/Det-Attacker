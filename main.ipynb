{
 "cells": [
  {
   "cell_type": "code",
   "execution_count": 1,
   "metadata": {
    "collapsed": true
   },
   "outputs": [],
   "source": [
    "import sys\n",
    "import torch\n",
    "import torchvision\n",
    "from torchvision.utils import make_grid\n",
    "from torch.utils.data import dataloader\n",
    "sys.path.append('models/detection')\n",
    "sys.path.append('models/detection/FasterRCNN')\n",
    "sys.path.append('utils')"
   ]
  },
  {
   "cell_type": "code",
   "execution_count": 2,
   "outputs": [],
   "source": [
    "from models.detection.models import fasterrcnn_mobilenet_v3_large_320_fpn_COCO, fasterrcnn_resnet50_fpn_COCO\n",
    "from utils.evaluate_utils import simple_watcher, AdvDetectionMetrics\n",
    "from utils.visualize_utils import show, draw_bbox_with_tensor\n",
    "from utils.utils import PatternProjector, ToxicTargetsGenerator, log, LossManager\n",
    "\n",
    "from adv_patch_generator import NoiseLikePatch\n",
    "from data import coco_2017_dev_5k\n",
    "from trainer import AdvPatchTrainer"
   ],
   "metadata": {
    "collapsed": false
   }
  },
  {
   "cell_type": "code",
   "execution_count": 3,
   "outputs": [
    {
     "name": "stdout",
     "output_type": "stream",
     "text": [
      "loading annotations into memory...\n",
      "Done (t=0.51s)\n",
      "creating index...\n",
      "index created!\n"
     ]
    }
   ],
   "source": [
    "train_ds, valid_ds, _ = coco_2017_dev_5k(split_rate=[200, 1000, 5000 - 1200])\n",
    "# net2attack = fasterrcnn_mobilenet_v3_large_320_fpn_COCO()\n",
    "net2attack = fasterrcnn_resnet50_fpn_COCO()\n",
    "patch_generator = NoiseLikePatch(128, 128)\n",
    "projector = PatternProjector(mix_rate=0.99, min_luminance=-2.01, luminance_smooth_boundary=0.001)"
   ],
   "metadata": {
    "collapsed": false
   }
  },
  {
   "cell_type": "code",
   "execution_count": 4,
   "outputs": [],
   "source": [
    "loss_weight = {\n",
    "    'atk_loss_classifier': 0.0,\n",
    "    'atk_loss_box_reg': 0.0,\n",
    "    'atk_loss_objectness': 1.0,\n",
    "    'atk_loss_rpn_box_reg': 0.0,\n",
    "    'loss_classifier': - 0.0,\n",
    "    'loss_box_reg': - 0.0,\n",
    "    'loss_objectness': - 1.0,\n",
    "    'loss_rpn_box_reg': - 0.0,\n",
    "}"
   ],
   "metadata": {
    "collapsed": false
   }
  },
  {
   "cell_type": "code",
   "execution_count": 5,
   "outputs": [],
   "source": [
    "loss_func = LossManager(**loss_weight)\n",
    "optimizer = torch.optim.Adam(patch_generator.parameters(), lr=0.1)\n",
    "targets_generator = ToxicTargetsGenerator()\n",
    "trainer = AdvPatchTrainer(net2attack,\n",
    "                          patch_generator,\n",
    "                          projector,\n",
    "                          loss_func,\n",
    "                          optimizer,\n",
    "                          targets_generator=targets_generator)"
   ],
   "metadata": {
    "collapsed": false
   }
  },
  {
   "cell_type": "code",
   "execution_count": 6,
   "outputs": [],
   "source": [
    "# watcher:...........\n",
    "# train.............."
   ],
   "metadata": {
    "collapsed": false
   }
  },
  {
   "cell_type": "code",
   "execution_count": 7,
   "outputs": [],
   "source": [
    "patch = torch.load('Exps/01-01-12-34/Data/patch.pt')"
   ],
   "metadata": {
    "collapsed": false
   }
  },
  {
   "cell_type": "code",
   "execution_count": 8,
   "outputs": [],
   "source": [
    "metric = AdvDetectionMetrics(net2attack, projector, patch, None)"
   ],
   "metadata": {
    "collapsed": false
   }
  },
  {
   "cell_type": "code",
   "execution_count": 9,
   "outputs": [
    {
     "name": "stderr",
     "output_type": "stream",
     "text": [
      "Processing: 100%|██████████| 200/200 [00:41<00:00,  5.79it/s]"
     ]
    },
    {
     "name": "stdout",
     "output_type": "stream",
     "text": [
      "Computing metrics. It (especially 'mAP' items) may take few minutes.\n"
     ]
    },
    {
     "name": "stderr",
     "output_type": "stream",
     "text": [
      "Processing: 100%|██████████| 200/200 [03:59<00:00,  1.20s/it]\n"
     ]
    },
    {
     "data": {
      "text/plain": "{'Statistic_Info': {'num_boxes_clean_images': 6829,\n  'num_boxes_clean_images_outside_patch': 6556,\n  'num_boxes_with_patch': 16330,\n  'num_boxes_unsuppressed': 3722},\n 'Average_Boxes_Number_Increase': 63.04,\n 'Boxes_Suppression_Rate': 0.4322757779133618,\n 'mAPs_clean_image': {'map': tensor(0.4090),\n  'map_50': tensor(0.6388),\n  'map_75': tensor(0.4185),\n  'map_small': tensor(0.1905),\n  'map_medium': tensor(0.3404),\n  'map_large': tensor(0.5652),\n  'mar_1': tensor(0.3403),\n  'mar_10': tensor(0.4969),\n  'mar_100': tensor(0.5115),\n  'mar_small': tensor(0.2631),\n  'mar_medium': tensor(0.4500),\n  'mar_large': tensor(0.6488),\n  'map_per_class': tensor(-1.),\n  'mar_100_per_class': tensor(-1.)},\n 'mAPs_with_patch': {'map': tensor(0.2295),\n  'map_50': tensor(0.3912),\n  'map_75': tensor(0.2323),\n  'map_small': tensor(0.1434),\n  'map_medium': tensor(0.2171),\n  'map_large': tensor(0.2879),\n  'mar_1': tensor(0.1896),\n  'mar_10': tensor(0.2809),\n  'mar_100': tensor(0.2918),\n  'mar_small': tensor(0.1898),\n  'mar_medium': tensor(0.2755),\n  'mar_large': tensor(0.3250),\n  'map_per_class': tensor(-1.),\n  'mar_100_per_class': tensor(-1.)}}"
     },
     "execution_count": 9,
     "metadata": {},
     "output_type": "execute_result"
    }
   ],
   "source": [
    "metric.compute(train_ds, True, batch_size=2)"
   ],
   "metadata": {
    "collapsed": false
   }
  },
  {
   "cell_type": "code",
   "execution_count": 12,
   "outputs": [
    {
     "name": "stdout",
     "output_type": "stream",
     "text": [
      "{'Average_Boxes_Number_Increase': 63.04,\n",
      " 'Boxes_Suppression_Rate': 0.4322757779133618,\n",
      " 'Statistic_Info': {'num_boxes_clean_images': 6829,\n",
      "                    'num_boxes_clean_images_outside_patch': 6556,\n",
      "                    'num_boxes_unsuppressed': 3722,\n",
      "                    'num_boxes_with_patch': 16330},\n",
      " 'mAPs_clean_image': {'map': tensor(0.4090),\n",
      "                      'map_50': tensor(0.6388),\n",
      "                      'map_75': tensor(0.4185),\n",
      "                      'map_large': tensor(0.5652),\n",
      "                      'map_medium': tensor(0.3404),\n",
      "                      'map_per_class': tensor(-1.),\n",
      "                      'map_small': tensor(0.1905),\n",
      "                      'mar_1': tensor(0.3403),\n",
      "                      'mar_10': tensor(0.4969),\n",
      "                      'mar_100': tensor(0.5115),\n",
      "                      'mar_100_per_class': tensor(-1.),\n",
      "                      'mar_large': tensor(0.6488),\n",
      "                      'mar_medium': tensor(0.4500),\n",
      "                      'mar_small': tensor(0.2631)},\n",
      " 'mAPs_with_patch': {'map': tensor(0.2295),\n",
      "                     'map_50': tensor(0.3912),\n",
      "                     'map_75': tensor(0.2323),\n",
      "                     'map_large': tensor(0.2879),\n",
      "                     'map_medium': tensor(0.2171),\n",
      "                     'map_per_class': tensor(-1.),\n",
      "                     'map_small': tensor(0.1434),\n",
      "                     'mar_1': tensor(0.1896),\n",
      "                     'mar_10': tensor(0.2809),\n",
      "                     'mar_100': tensor(0.2918),\n",
      "                     'mar_100_per_class': tensor(-1.),\n",
      "                     'mar_large': tensor(0.3250),\n",
      "                     'mar_medium': tensor(0.2755),\n",
      "                     'mar_small': tensor(0.1898)}}\n"
     ]
    }
   ],
   "source": [
    "import pprint as pp\n",
    "pp.pprint(metric.metrics)"
   ],
   "metadata": {
    "collapsed": false
   }
  },
  {
   "cell_type": "code",
   "execution_count": null,
   "outputs": [],
   "source": [],
   "metadata": {
    "collapsed": false
   }
  }
 ],
 "metadata": {
  "kernelspec": {
   "display_name": "Python 3",
   "language": "python",
   "name": "python3"
  },
  "language_info": {
   "codemirror_mode": {
    "name": "ipython",
    "version": 2
   },
   "file_extension": ".py",
   "mimetype": "text/x-python",
   "name": "python",
   "nbconvert_exporter": "python",
   "pygments_lexer": "ipython2",
   "version": "2.7.6"
  }
 },
 "nbformat": 4,
 "nbformat_minor": 0
}
